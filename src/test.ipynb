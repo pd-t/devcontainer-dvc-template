{
 "cells": [
  {
   "cell_type": "code",
   "execution_count": null,
   "metadata": {},
   "outputs": [],
   "source": [
    "from boto3 import session\n",
    "\n",
    "# Initiate session\n",
    "session = session.Session()\n",
    "client = session.client('s3',\n",
    "                        region_name='fra1',\n",
    "                        endpoint_url='https://fra1.digitaloceanspaces.com')\n",
    "\n",
    "# Upload a file to your Space\n",
    "client.download_file('smart-cybersecurity-aidocs','logo.jpg', 'Logo.jpg')"
   ]
  },
  {
   "cell_type": "code",
   "execution_count": 4,
   "metadata": {},
   "outputs": [],
   "source": [
    "from boto3 import session\n",
    "\n",
    "AWS_ACCESS_KEY_ID='DO00R6PDAP73WNMW8PM4'\n",
    "AWS_SECRET_ACCESS_KEY='ONsbSblKi9sXgvXJPrBl3GgJvXekRH9X490yiwFdAJ0'\n",
    "\n",
    "# Initiate session\n",
    "session = session.Session()\n",
    "client = session.client('s3',\n",
    "                        region_name='fra1',\n",
    "                        endpoint_url='https://fra1.digitaloceanspaces.com',\n",
    "                        aws_access_key_id=AWS_ACCESS_KEY_ID,\n",
    "                        aws_secret_access_key=AWS_SECRET_ACCESS_KEY)\n",
    "\n",
    "# Upload a file to your Space\n",
    "client.download_file('smart-cybersecurity-aidocs','logo.jpg', 'Logo.jpg')"
   ]
  },
  {
   "cell_type": "code",
   "execution_count": null,
   "metadata": {},
   "outputs": [],
   "source": []
  }
 ],
 "metadata": {
  "kernelspec": {
   "display_name": ".venv",
   "language": "python",
   "name": "python3"
  },
  "language_info": {
   "codemirror_mode": {
    "name": "ipython",
    "version": 3
   },
   "file_extension": ".py",
   "mimetype": "text/x-python",
   "name": "python",
   "nbconvert_exporter": "python",
   "pygments_lexer": "ipython3",
   "version": "3.12.1"
  }
 },
 "nbformat": 4,
 "nbformat_minor": 2
}
